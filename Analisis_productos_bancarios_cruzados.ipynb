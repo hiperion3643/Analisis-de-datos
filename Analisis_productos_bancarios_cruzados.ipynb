{
 "cells": [
  {
   "cell_type": "code",
   "execution_count": null,
   "id": "9d6d6984-1f0c-4e2d-aff2-20370afedaba",
   "metadata": {},
   "outputs": [],
   "source": [
    "# Titulo: Análisis de Datos Bancarios con Python\n",
    "# Descripción: Este script realiza un análisis de productos cruzados en un conjunto de datos bancarios ficticios.\n",
    "# Autor: Enrique Muñoz"
   ]
  },
  {
   "cell_type": "code",
   "execution_count": null,
   "id": "1e78073b-ed40-4332-9012-20ede19fe481",
   "metadata": {},
   "outputs": [],
   "source": [
    "import pandas as pd\n",
    "import numpy as np\n",
    "import matplotlib.pyplot as plt\n",
    "import seaborn as sns"
   ]
  },
  {
   "cell_type": "code",
   "execution_count": null,
   "id": "9f3f6c56-accf-4007-8d11-9ffc47ef65fd",
   "metadata": {},
   "outputs": [],
   "source": [
    "# Configurar la semilla para reproducibilidad\n",
    "np.random.seed(42)\n",
    "n_clientes = 1000\n",
    "data = {\n",
    "    'ClienteID': range(1, n_clientes + 1),\n",
    "    'Edad': np.random.randint(18, 70, size=n_clientes),\n",
    "    'Ingresos': np.random.randint(20000, 100000, size=n_clientes),\n",
    "    'Gastos': np.random.randint(5000, 50000, size=n_clientes),\n",
    "    'Seguro_de_Vida': np.random.choice([0, 1], size=n_clientes),  # 0 = No, 1 = Sí\n",
    "    'Seguro_de_Auto': np.random.choice([0, 1], size=n_clientes),  # 0 = No, 1 = Sí\n",
    "    'Tarjeta_de_Credito': np.random.choice([0, 1], size=n_clientes),  # 0 = No, 1 = Sí\n",
    "    'Prestamo_Hipotecario': np.random.choice([0, 1], size=n_clientes),  # 0 = No, 1 = Sí\n",
    "    'Prestamo_Personal': np.random.choice([0, 1], size=n_clientes),  # 0 = No, 1 = Sí\n",
    "    'Cuenta_de_Ahorros': np.random.choice([0, 1], size=n_clientes),  # 0 = No, 1 = Sí\n",
    "    'Cuenta_Corriente': np.random.choice([0, 1], size=n_clientes),  # 0 = No, 1 = Sí\n",
    "    'Inversiones': np.random.choice([0, 1], size=n_clientes),  # 0 = No, 1 = Sí\n",
    "    'Plan_de_Jubilacion': np.random.choice([0, 1], size=n_clientes),  # 0 = No, 1 = Sí\n",
    "}"
   ]
  },
  {
   "cell_type": "code",
   "execution_count": null,
   "id": "d3884f39-2f8b-4c5e-9bd2-d1bd8275d950",
   "metadata": {},
   "outputs": [
    {
     "name": "stdout",
     "output_type": "stream",
     "text": [
      "   ClienteID  Edad  Ingresos  Gastos  Seguro_de_Vida  Seguro_de_Auto  \\\n",
      "0          1    56     54674   24508               0               1   \n",
      "1          2    69     55854   47287               1               1   \n",
      "2          3    46     66271   18380               1               1   \n",
      "3          4    32     93688   31984               1               1   \n",
      "4          5    60     58518   49633               1               0   \n",
      "\n",
      "   Tarjeta_de_Credito  Prestamo_Hipotecario  Prestamo_Personal  \\\n",
      "0                   0                     1                  1   \n",
      "1                   1                     0                  0   \n",
      "2                   1                     0                  0   \n",
      "3                   0                     0                  0   \n",
      "4                   0                     1                  1   \n",
      "\n",
      "   Cuenta_de_Ahorros  Cuenta_Corriente  Inversiones  Plan_de_Jubilacion  \n",
      "0                  1                 1            1                   1  \n",
      "1                  1                 0            0                   1  \n",
      "2                  1                 0            1                   1  \n",
      "3                  1                 1            0                   0  \n",
      "4                  0                 0            1                   1  \n",
      "Dataframe creado con éxito con 1000 clientes.\n",
      "Index(['ClienteID', 'Edad', 'Ingresos', 'Gastos', 'Seguro_de_Vida',\n",
      "       'Seguro_de_Auto', 'Tarjeta_de_Credito', 'Prestamo_Hipotecario',\n",
      "       'Prestamo_Personal', 'Cuenta_de_Ahorros', 'Cuenta_Corriente',\n",
      "       'Inversiones', 'Plan_de_Jubilacion'],\n",
      "      dtype='object')\n"
     ]
    }
   ],
   "source": [
    "df = pd.DataFrame(data)\n",
    "# Mostrar las primeras filas del DataFrame\n",
    "print(df.head())\n",
    "print('Dataframe creado con éxito con', n_clientes, 'clientes.')\n",
    "#imprimir los campos del dataframe\n",
    "print(df.columns)"
   ]
  },
  {
   "cell_type": "code",
   "execution_count": null,
   "id": "16206139-3371-4532-8c49-1691020c9491",
   "metadata": {},
   "outputs": [
    {
     "data": {
      "application/vnd.microsoft.datawrangler.viewer.v0+json": {
       "columns": [
        {
         "name": "index",
         "rawType": "int64",
         "type": "integer"
        },
        {
         "name": "ClienteID",
         "rawType": "string",
         "type": "string"
        },
        {
         "name": "Edad",
         "rawType": "int8",
         "type": "integer"
        },
        {
         "name": "Ingresos",
         "rawType": "int32",
         "type": "integer"
        },
        {
         "name": "Gastos",
         "rawType": "int32",
         "type": "integer"
        },
        {
         "name": "Seguro_de_Vida",
         "rawType": "bool",
         "type": "boolean"
        },
        {
         "name": "Seguro_de_Auto",
         "rawType": "bool",
         "type": "boolean"
        },
        {
         "name": "Tarjeta_de_Credito",
         "rawType": "bool",
         "type": "boolean"
        },
        {
         "name": "Prestamo_Hipotecario",
         "rawType": "bool",
         "type": "boolean"
        },
        {
         "name": "Prestamo_Personal",
         "rawType": "bool",
         "type": "boolean"
        },
        {
         "name": "Cuenta_de_Ahorros",
         "rawType": "bool",
         "type": "boolean"
        },
        {
         "name": "Cuenta_Corriente",
         "rawType": "bool",
         "type": "boolean"
        },
        {
         "name": "Inversiones",
         "rawType": "bool",
         "type": "boolean"
        },
        {
         "name": "Plan_de_Jubilacion",
         "rawType": "bool",
         "type": "boolean"
        }
       ],
       "ref": "189b258e-723a-4bd9-bb4c-0e29c94abc3b",
       "rows": [
        [
         "19",
         "20",
         "41",
         "99905",
         "30923",
         "False",
         "False",
         "True",
         "False",
         "True",
         "True",
         "True",
         "False",
         "False"
        ],
        [
         "91",
         "92",
         "35",
         "99767",
         "41914",
         "False",
         "True",
         "True",
         "True",
         "False",
         "False",
         "False",
         "True",
         "True"
        ],
        [
         "940",
         "941",
         "38",
         "99671",
         "35090",
         "False",
         "True",
         "False",
         "True",
         "False",
         "True",
         "False",
         "True",
         "True"
        ],
        [
         "859",
         "860",
         "43",
         "99561",
         "26253",
         "False",
         "True",
         "False",
         "True",
         "True",
         "True",
         "True",
         "True",
         "True"
        ],
        [
         "930",
         "931",
         "42",
         "99530",
         "37994",
         "False",
         "False",
         "True",
         "True",
         "False",
         "False",
         "True",
         "False",
         "False"
        ]
       ],
       "shape": {
        "columns": 13,
        "rows": 5
       }
      },
      "text/html": [
       "<div>\n",
       "<style scoped>\n",
       "    .dataframe tbody tr th:only-of-type {\n",
       "        vertical-align: middle;\n",
       "    }\n",
       "\n",
       "    .dataframe tbody tr th {\n",
       "        vertical-align: top;\n",
       "    }\n",
       "\n",
       "    .dataframe thead th {\n",
       "        text-align: right;\n",
       "    }\n",
       "</style>\n",
       "<table border=\"1\" class=\"dataframe\">\n",
       "  <thead>\n",
       "    <tr style=\"text-align: right;\">\n",
       "      <th></th>\n",
       "      <th>ClienteID</th>\n",
       "      <th>Edad</th>\n",
       "      <th>Ingresos</th>\n",
       "      <th>Gastos</th>\n",
       "      <th>Seguro_de_Vida</th>\n",
       "      <th>Seguro_de_Auto</th>\n",
       "      <th>Tarjeta_de_Credito</th>\n",
       "      <th>Prestamo_Hipotecario</th>\n",
       "      <th>Prestamo_Personal</th>\n",
       "      <th>Cuenta_de_Ahorros</th>\n",
       "      <th>Cuenta_Corriente</th>\n",
       "      <th>Inversiones</th>\n",
       "      <th>Plan_de_Jubilacion</th>\n",
       "    </tr>\n",
       "  </thead>\n",
       "  <tbody>\n",
       "    <tr>\n",
       "      <th>19</th>\n",
       "      <td>20</td>\n",
       "      <td>41</td>\n",
       "      <td>99905</td>\n",
       "      <td>30923</td>\n",
       "      <td>False</td>\n",
       "      <td>False</td>\n",
       "      <td>True</td>\n",
       "      <td>False</td>\n",
       "      <td>True</td>\n",
       "      <td>True</td>\n",
       "      <td>True</td>\n",
       "      <td>False</td>\n",
       "      <td>False</td>\n",
       "    </tr>\n",
       "    <tr>\n",
       "      <th>91</th>\n",
       "      <td>92</td>\n",
       "      <td>35</td>\n",
       "      <td>99767</td>\n",
       "      <td>41914</td>\n",
       "      <td>False</td>\n",
       "      <td>True</td>\n",
       "      <td>True</td>\n",
       "      <td>True</td>\n",
       "      <td>False</td>\n",
       "      <td>False</td>\n",
       "      <td>False</td>\n",
       "      <td>True</td>\n",
       "      <td>True</td>\n",
       "    </tr>\n",
       "    <tr>\n",
       "      <th>940</th>\n",
       "      <td>941</td>\n",
       "      <td>38</td>\n",
       "      <td>99671</td>\n",
       "      <td>35090</td>\n",
       "      <td>False</td>\n",
       "      <td>True</td>\n",
       "      <td>False</td>\n",
       "      <td>True</td>\n",
       "      <td>False</td>\n",
       "      <td>True</td>\n",
       "      <td>False</td>\n",
       "      <td>True</td>\n",
       "      <td>True</td>\n",
       "    </tr>\n",
       "    <tr>\n",
       "      <th>859</th>\n",
       "      <td>860</td>\n",
       "      <td>43</td>\n",
       "      <td>99561</td>\n",
       "      <td>26253</td>\n",
       "      <td>False</td>\n",
       "      <td>True</td>\n",
       "      <td>False</td>\n",
       "      <td>True</td>\n",
       "      <td>True</td>\n",
       "      <td>True</td>\n",
       "      <td>True</td>\n",
       "      <td>True</td>\n",
       "      <td>True</td>\n",
       "    </tr>\n",
       "    <tr>\n",
       "      <th>930</th>\n",
       "      <td>931</td>\n",
       "      <td>42</td>\n",
       "      <td>99530</td>\n",
       "      <td>37994</td>\n",
       "      <td>False</td>\n",
       "      <td>False</td>\n",
       "      <td>True</td>\n",
       "      <td>True</td>\n",
       "      <td>False</td>\n",
       "      <td>False</td>\n",
       "      <td>True</td>\n",
       "      <td>False</td>\n",
       "      <td>False</td>\n",
       "    </tr>\n",
       "  </tbody>\n",
       "</table>\n",
       "</div>"
      ],
      "text/plain": [
       "    ClienteID  Edad  Ingresos  Gastos  Seguro_de_Vida  Seguro_de_Auto  \\\n",
       "19         20    41     99905   30923           False           False   \n",
       "91         92    35     99767   41914           False            True   \n",
       "940       941    38     99671   35090           False            True   \n",
       "859       860    43     99561   26253           False            True   \n",
       "930       931    42     99530   37994           False           False   \n",
       "\n",
       "     Tarjeta_de_Credito  Prestamo_Hipotecario  Prestamo_Personal  \\\n",
       "19                 True                 False               True   \n",
       "91                 True                  True              False   \n",
       "940               False                  True              False   \n",
       "859               False                  True               True   \n",
       "930                True                  True              False   \n",
       "\n",
       "     Cuenta_de_Ahorros  Cuenta_Corriente  Inversiones  Plan_de_Jubilacion  \n",
       "19                True              True        False               False  \n",
       "91               False             False         True                True  \n",
       "940               True             False         True                True  \n",
       "859               True              True         True                True  \n",
       "930              False              True        False               False  "
      ]
     },
     "execution_count": 5,
     "metadata": {},
     "output_type": "execute_result"
    }
   ],
   "source": [
    "# Limpieza y depuracion con data wangler\n",
    "def clean_data(df):\n",
    "    # Cambiar el tipo de columna a boolpara las columnas: 'Seguro_de_Auto', 'Seguro_de_Vida' y 7 otras columnas\n",
    "    df = df.astype({'Seguro_de_Auto': 'bool', 'Seguro_de_Vida': 'bool', 'Tarjeta_de_Credito': 'bool', 'Prestamo_Hipotecario': 'bool', 'Prestamo_Personal': 'bool', 'Cuenta_de_Ahorros': 'bool', 'Cuenta_Corriente': 'bool', 'Inversiones': 'bool', 'Plan_de_Jubilacion': 'bool'})\n",
    "    # Cambia el tipo de columna por int8 para la columna: 'Edad'\n",
    "    df = df.astype({'Edad': 'int8'})\n",
    "    # Cambia el tipo de columna por string para la columna: 'ClienteID'\n",
    "    df = df.astype({'ClienteID': 'string'})\n",
    "    # Filtrar filas según la columna: 'Edad'\n",
    "    df = df[(df['Edad'] > 25) & (df['Edad'] < 80)]\n",
    "    # Filtrar filas según la columna: 'Ingresos'\n",
    "    df = df[(df['Ingresos'] >= 1000) & (df['Ingresos'].apply(str).str.contains(\"\", regex=False, na=False, case=False))]\n",
    "    # Ordenar por columna: 'Ingresos' (descendente)\n",
    "    df = df.sort_values(['Ingresos'], ascending=[False])\n",
    "    return df\n",
    "\n",
    "df_clean = clean_data(df.copy())\n",
    "df_clean.head()"
   ]
  },
  {
   "cell_type": "code",
   "execution_count": null,
   "id": "98a7974f-c148-457c-b3e2-57f7f2feaf1a",
   "metadata": {},
   "outputs": [
    {
     "name": "stdout",
     "output_type": "stream",
     "text": [
      "             Edad      Ingresos        Gastos\n",
      "count  846.000000    846.000000    846.000000\n",
      "mean    47.920804  59501.137116  27160.213948\n",
      "std     12.461809  23207.487389  12713.715212\n",
      "min     26.000000  20060.000000   5097.000000\n",
      "25%     38.000000  40375.500000  15754.500000\n",
      "50%     48.000000  58538.500000  28211.000000\n",
      "75%     58.000000  78735.500000  37559.750000\n",
      "max     69.000000  99905.000000  49936.000000\n"
     ]
    }
   ],
   "source": [
    "# Análisis exploratorio de datos (EDA)\n",
    "# Estadísticas descriptivas del DataFrame limpio\n",
    "print(df_clean.describe())"
   ]
  },
  {
   "cell_type": "code",
   "execution_count": null,
   "id": "f5733881-bbd5-4d6f-b2a0-bfc430f0712f",
   "metadata": {},
   "outputs": [
    {
     "name": "stdout",
     "output_type": "stream",
     "text": [
      "    ClienteID  Total_Productos\n",
      "19         20                4\n",
      "91         92                5\n",
      "940       941                5\n",
      "859       860                7\n",
      "930       931                3\n",
      "Ingreso promedio por cliente: 59501.14\n",
      "Correlación entre ingresos y número de productos contratados: -0.05\n",
      "Penetración de Seguro_de_Vida: 46.81%\n",
      "Penetración de Seguro_de_Auto: 47.87%\n",
      "Penetración de Tarjeta_de_Credito: 49.05%\n",
      "Penetración de Prestamo_Hipotecario: 51.06%\n",
      "Penetración de Prestamo_Personal: 48.23%\n",
      "Penetración de Cuenta_de_Ahorros: 54.14%\n",
      "Penetración de Cuenta_Corriente: 49.53%\n",
      "Penetración de Inversiones: 50.24%\n",
      "Penetración de Plan_de_Jubilacion: 50.35%\n"
     ]
    }
   ],
   "source": [
    "# Calcular el número total de productos contratados por cliente\n",
    "df_clean['Total_Productos'] = df_clean[['Seguro_de_Vida', 'Seguro_de_Auto', 'Tarjeta_de_Credito', 'Prestamo_Hipotecario', 'Prestamo_Personal', 'Cuenta_de_Ahorros', 'Cuenta_Corriente', 'Inversiones', 'Plan_de_Jubilacion']].sum(axis=1)\n",
    "# Mostrar las primeras filas con la nueva columna \n",
    "print(df_clean[['ClienteID', 'Total_Productos']].head())\n",
    "\n",
    "# Calcular el ingreso promedio por cliente\n",
    "ingreso_promedio = df_clean['Ingresos'].mean()\n",
    "print(f'Ingreso promedio por cliente: {ingreso_promedio:.2f}')\n",
    "\n",
    "#Calcular la correlación entre ingresos y numero de productos contratados\n",
    "correlacion = df_clean['Ingresos'].corr(df_clean['Total_Productos'])\n",
    "print(f'Correlación entre ingresos y número de productos contratados: {correlacion:.2f}')\n",
    "\n",
    "# Calcular penetración de cada producto\n",
    "productos = ['Seguro_de_Vida', 'Seguro_de_Auto', 'Tarjeta_de_Credito', 'Prestamo_Hipotecario', 'Prestamo_Personal', 'Cuenta_de_Ahorros', 'Cuenta_Corriente', 'Inversiones', 'Plan_de_Jubilacion']   \n",
    "for producto in productos:\n",
    "    penetracion = df_clean[producto].mean() * 100\n",
    "    print(f'Penetración de {producto}: {penetracion:.2f}%')\n",
    "\n",
    "# Final del código"
   ]
  }
 ],
 "metadata": {
  "language_info": {
   "codemirror_mode": {
    "name": "ipython",
    "version": 3
   },
   "file_extension": ".py",
   "mimetype": "text/x-python",
   "name": "python",
   "nbconvert_exporter": "python",
   "pygments_lexer": "ipython3",
   "version": 3
  }
 },
 "nbformat": 4,
 "nbformat_minor": 2
}
